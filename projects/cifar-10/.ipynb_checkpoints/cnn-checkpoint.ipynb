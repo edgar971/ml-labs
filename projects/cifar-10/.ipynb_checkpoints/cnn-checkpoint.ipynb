{
 "cells": [
  {
   "cell_type": "code",
   "execution_count": 160,
   "metadata": {},
   "outputs": [],
   "source": [
    "%matplotlib inline\n",
    "import numpy as np\n",
    "import tensorflow as tf\n",
    "import matplotlib\n",
    "import matplotlib.pyplot as plt\n",
    "from tensorflow import keras\n",
    "from six.moves import urllib\n",
    "import pickle"
   ]
  },
  {
   "cell_type": "code",
   "execution_count": 161,
   "metadata": {},
   "outputs": [],
   "source": [
    "label_map = ['airplane', 'automobile', 'bird', 'cat', 'deer', 'dog', 'frog', 'horse', 'ship', 'truck']"
   ]
  },
  {
   "cell_type": "code",
   "execution_count": 162,
   "metadata": {},
   "outputs": [],
   "source": [
    "def display_image(data, label_id):\n",
    "    label = label_map[label_id]\n",
    "    print(f\"Label: {label}\")\n",
    "    plt.imshow(data, cmap=\"Greys\", interpolation='nearest')"
   ]
  },
  {
   "cell_type": "markdown",
   "metadata": {},
   "source": [
    "## Load and Prepare data"
   ]
  },
  {
   "cell_type": "code",
   "execution_count": 163,
   "metadata": {},
   "outputs": [],
   "source": [
    "DATASET_FOLDER = 'data'\n",
    "\n",
    "def load_batch(batch_id):\n",
    "    with open(DATASET_FOLDER + '/data_batch_' + str(batch_id), mode='rb') as file:\n",
    "        batch = pickle.load(file, encoding='latin1')\n",
    "        \n",
    "    features = batch['data'].reshape(len(batch['data']), 3, 32, 32).transpose(0,2,3,1)\n",
    "    labels = batch['labels']\n",
    "    \n",
    "    return features, labels"
   ]
  },
  {
   "cell_type": "code",
   "execution_count": 164,
   "metadata": {},
   "outputs": [],
   "source": [
    "features, labels = load_batch(1)"
   ]
  },
  {
   "cell_type": "code",
   "execution_count": 165,
   "metadata": {},
   "outputs": [
    {
     "name": "stdout",
     "output_type": "stream",
     "text": [
      "Label: truck\n"
     ]
    },
    {
     "data": {
      "image/png": "[encoded data removed]",
      "text/plain": [
       "<Figure size 432x288 with 1 Axes>"
      ]
     },
     "metadata": {
      "needs_background": "light"
     },
     "output_type": "display_data"
    }
   ],
   "source": [
    "display_image(features[1], labels[1])"
   ]
  },
  {
   "cell_type": "code",
   "execution_count": 166,
   "metadata": {},
   "outputs": [
    {
     "name": "stdout",
     "output_type": "stream",
     "text": [
      "Label: ship\n"
     ]
    },
    {
     "data": {
      "image/png": "[encoded data removed]",
      "text/plain": [
       "<Figure size 432x288 with 1 Axes>"
      ]
     },
     "metadata": {
      "needs_background": "light"
     },
     "output_type": "display_data"
    }
   ],
   "source": [
    "display_image(features[100], labels[100])"
   ]
  },
  {
   "cell_type": "code",
   "execution_count": 167,
   "metadata": {},
   "outputs": [],
   "source": [
    "training_size = int(len(features) * 0.8)\n",
    "\n",
    "training_imgs = features[:training_size, :,:]\n",
    "training_labels = labels[:training_size]\n",
    "\n",
    "test_imgs = features[training_size:, :,:]\n",
    "test_labels = labels[training_size:]"
   ]
  },
  {
   "cell_type": "markdown",
   "metadata": {},
   "source": [
    "## Train"
   ]
  },
  {
   "cell_type": "code",
   "execution_count": 168,
   "metadata": {},
   "outputs": [],
   "source": [
    "height = 32\n",
    "width = 32\n",
    "channels = 3\n",
    "n_inputs = width * height\n",
    "dropout_rate = 0.5"
   ]
  },
  {
   "cell_type": "code",
   "execution_count": 169,
   "metadata": {},
   "outputs": [],
   "source": [
    "tf.reset_default_graph()"
   ]
  },
  {
   "cell_type": "code",
   "execution_count": 170,
   "metadata": {},
   "outputs": [],
   "source": [
    "x = tf.placeholder(tf.float32, shape=[None, height, width, channels], name=\"x\")\n",
    "y = tf.placeholder(tf.int32, shape=[None], name=\"y\")"
   ]
  },
  {
   "cell_type": "code",
   "execution_count": 171,
   "metadata": {},
   "outputs": [],
   "source": [
    "training = tf.placeholder_with_default(False, shape=(), name='training')"
   ]
  },
  {
   "cell_type": "code",
   "execution_count": 172,
   "metadata": {},
   "outputs": [],
   "source": [
    "X_drop = tf.layers.dropout(x, dropout_rate, training=training)"
   ]
  },
  {
   "cell_type": "code",
   "execution_count": 173,
   "metadata": {},
   "outputs": [
    {
     "data": {
      "text/plain": [
       "TensorShape([Dimension(None), Dimension(32), Dimension(32), Dimension(32)])"
      ]
     },
     "execution_count": 173,
     "metadata": {},
     "output_type": "execute_result"
    }
   ],
   "source": [
    "conv1 = tf.layers.conv2d(X_drop, \n",
    "                         filters=32, \n",
    "                         kernel_size=3,\n",
    "                         strides=1,\n",
    "                         padding='SAME',\n",
    "                         activation=tf.nn.relu,\n",
    "                         name=\"conv1\",\n",
    "                        reuse=tf.AUTO_REUSE)\n",
    "conv1.shape"
   ]
  },
  {
   "cell_type": "code",
   "execution_count": 174,
   "metadata": {},
   "outputs": [
    {
     "data": {
      "text/plain": [
       "TensorShape([Dimension(None), Dimension(16), Dimension(16), Dimension(128)])"
      ]
     },
     "execution_count": 174,
     "metadata": {},
     "output_type": "execute_result"
    }
   ],
   "source": [
    "conv2 = tf.layers.conv2d(conv1, \n",
    "                         filters=128, \n",
    "                         kernel_size=3,\n",
    "                         strides=2,\n",
    "                         padding='SAME',\n",
    "                         activation=tf.nn.relu,\n",
    "                         name=\"conv2\",\n",
    "                        reuse=tf.AUTO_REUSE)\n",
    "conv2.shape"
   ]
  },
  {
   "cell_type": "code",
   "execution_count": 175,
   "metadata": {},
   "outputs": [
    {
     "data": {
      "text/plain": [
       "TensorShape([Dimension(None), Dimension(16), Dimension(16), Dimension(256)])"
      ]
     },
     "execution_count": 175,
     "metadata": {},
     "output_type": "execute_result"
    }
   ],
   "source": [
    "conv3 = tf.layers.conv2d(conv2, \n",
    "                         filters=256, \n",
    "                         kernel_size=3,\n",
    "                         strides=1,\n",
    "                         padding='SAME',\n",
    "                         activation=tf.nn.relu,\n",
    "                         name=\"conv3\",\n",
    "                        reuse=tf.AUTO_REUSE)\n",
    "conv3.shape"
   ]
  },
  {
   "cell_type": "code",
   "execution_count": 176,
   "metadata": {},
   "outputs": [
    {
     "data": {
      "text/plain": [
       "TensorShape([Dimension(None), Dimension(8), Dimension(8), Dimension(256)])"
      ]
     },
     "execution_count": 176,
     "metadata": {},
     "output_type": "execute_result"
    }
   ],
   "source": [
    "pool3 = tf.nn.max_pool(conv3, ksize=[1,2,2,1], strides=[1,2,2,1], padding='VALID')\n",
    "pool3.shape"
   ]
  },
  {
   "cell_type": "code",
   "execution_count": 177,
   "metadata": {},
   "outputs": [
    {
     "data": {
      "text/plain": [
       "TensorShape([Dimension(None), Dimension(3), Dimension(3), Dimension(128)])"
      ]
     },
     "execution_count": 177,
     "metadata": {},
     "output_type": "execute_result"
    }
   ],
   "source": [
    "conv4 = tf.layers.conv2d(pool3, \n",
    "                         filters=128, \n",
    "                         kernel_size=4,\n",
    "                         strides=3,\n",
    "                         padding='SAME',\n",
    "                         activation=tf.nn.relu,\n",
    "                         name=\"conv4\",\n",
    "                        reuse=tf.AUTO_REUSE)\n",
    "conv4.shape"
   ]
  },
  {
   "cell_type": "code",
   "execution_count": 178,
   "metadata": {},
   "outputs": [
    {
     "data": {
      "text/plain": [
       "TensorShape([Dimension(None), Dimension(2), Dimension(2), Dimension(128)])"
      ]
     },
     "execution_count": 178,
     "metadata": {},
     "output_type": "execute_result"
    }
   ],
   "source": [
    "pool5 = tf.nn.max_pool(conv4, ksize=[1,2,2,1], strides=[1,1,1,1], padding='VALID')\n",
    "pool5.shape"
   ]
  },
  {
   "cell_type": "code",
   "execution_count": 179,
   "metadata": {},
   "outputs": [
    {
     "data": {
      "text/plain": [
       "TensorShape([Dimension(None), Dimension(512)])"
      ]
     },
     "execution_count": 179,
     "metadata": {},
     "output_type": "execute_result"
    }
   ],
   "source": [
    "pool5_flat = tf.reshape(pool5, shape=[-1,128*2*2])\n",
    "pool5_flat.shape"
   ]
  },
  {
   "cell_type": "code",
   "execution_count": 180,
   "metadata": {},
   "outputs": [],
   "source": [
    "fully_conn1 = tf.layers.dense(pool5_flat,\n",
    "                              128, \n",
    "                              activation=tf.nn.relu,\n",
    "                              name=\"fc1\")"
   ]
  },
  {
   "cell_type": "code",
   "execution_count": 181,
   "metadata": {},
   "outputs": [],
   "source": [
    "fully_conn2 = tf.layers.dense(pool5_flat,\n",
    "                              64, \n",
    "                              activation=tf.nn.relu,\n",
    "                              name=\"fc2\")"
   ]
  },
  {
   "cell_type": "code",
   "execution_count": 182,
   "metadata": {},
   "outputs": [],
   "source": [
    "logits = tf.layers.dense(fully_conn2, 10, name=\"output\")"
   ]
  },
  {
   "cell_type": "code",
   "execution_count": 183,
   "metadata": {},
   "outputs": [],
   "source": [
    "xentropy = tf.nn.sparse_softmax_cross_entropy_with_logits(logits=logits, labels=y)\n",
    "loss = tf.reduce_mean(xentropy)\n",
    "optimizer = tf.train.AdamOptimizer()\n",
    "training_op = optimizer.minimize(loss)"
   ]
  },
  {
   "cell_type": "code",
   "execution_count": 184,
   "metadata": {},
   "outputs": [],
   "source": [
    "correct = tf.nn.in_top_k(logits,y,1)\n",
    "accuracy = tf.reduce_mean(tf.cast(correct, tf.float32))"
   ]
  },
  {
   "cell_type": "code",
   "execution_count": 185,
   "metadata": {},
   "outputs": [],
   "source": [
    "init = tf.global_variables_initializer()\n",
    "saver = tf.train.Saver()"
   ]
  },
  {
   "cell_type": "code",
   "execution_count": 186,
   "metadata": {},
   "outputs": [],
   "source": [
    "def get_next_batch(features, labels, training_size, batch_index, batch_size):\n",
    "    x_test = features[training_size:, :,:]\n",
    "    y_test = labels[training_size:]\n",
    "    \n",
    "    start_idx = batch_index * batch_size\n",
    "    end_idx = start_idx + batch_size\n",
    "    \n",
    "    return features[start_idx:end_idx, :,:], labels[start_idx:end_idx], x_test, y_test"
   ]
  },
  {
   "cell_type": "code",
   "execution_count": 187,
   "metadata": {},
   "outputs": [
    {
     "name": "stdout",
     "output_type": "stream",
     "text": [
      "Epoch 0 training accuracy = 0.234375, test accuracy = 0.23800000548362732\n",
      "Epoch 1 training accuracy = 0.265625, test accuracy = 0.2485000044107437\n",
      "Epoch 2 training accuracy = 0.34375, test accuracy = 0.3179999887943268\n",
      "Epoch 3 training accuracy = 0.3125, test accuracy = 0.3075000047683716\n",
      "Epoch 4 training accuracy = 0.359375, test accuracy = 0.3409999907016754\n"
     ]
    }
   ],
   "source": [
    "n_epochs = 5\n",
    "batch_size = 64\n",
    "\n",
    "with tf.Session() as session:\n",
    "    init.run()\n",
    "    \n",
    "    for epoch in range(n_epochs):\n",
    "        batch_index = 0\n",
    "        \n",
    "        for interation in range(training_size // batch_size):\n",
    "            x_train, y_train, x_test, y_test = get_next_batch(features, labels, training_size, batch_index, batch_size)\n",
    "            batch_index += 1\n",
    "            session.run(training_op, feed_dict={x: x_train, y: y_train, training: True})\n",
    "            \n",
    "        training_acc = accuracy.eval(feed_dict={x: x_train, y: y_train})\n",
    "        test_acc = accuracy.eval(feed_dict={x: x_test, y: y_test})\n",
    "        print(f\"Epoch {epoch} training accuracy = {training_acc}, test accuracy = {test_acc}\")\n",
    "        save_path = saver.save(session, \"./model/cifar-10\")"
   ]
  },
  {
   "cell_type": "code",
   "execution_count": null,
   "metadata": {},
   "outputs": [],
   "source": []
  },
  {
   "cell_type": "markdown",
   "metadata": {},
   "source": [
    "Epoch 4 training accuracy = 0.359375, test accuracy = 0.3409999907016754"
   ]
  },
  {
   "cell_type": "code",
   "execution_count": null,
   "metadata": {},
   "outputs": [],
   "source": []
  }
 ],
 "metadata": {
  "kernelspec": {
   "display_name": "Python 3",
   "language": "python",
   "name": "python3"
  },
  "language_info": {
   "codemirror_mode": {
    "name": "ipython",
    "version": 3
   },
   "file_extension": ".py",
   "mimetype": "text/x-python",
   "name": "python",
   "nbconvert_exporter": "python",
   "pygments_lexer": "ipython3",
   "version": "3.6.8"
  }
 },
 "nbformat": 4,
 "nbformat_minor": 2
}
