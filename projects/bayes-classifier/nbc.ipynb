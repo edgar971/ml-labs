{
 "cells": [
  {
   "cell_type": "code",
   "execution_count": 23,
   "metadata": {},
   "outputs": [],
   "source": [
    "import pandas as pd"
   ]
  },
  {
   "cell_type": "code",
   "execution_count": 33,
   "metadata": {},
   "outputs": [],
   "source": [
    "training = pd.read_csv('train.data')"
   ]
  },
  {
   "cell_type": "code",
   "execution_count": 34,
   "metadata": {},
   "outputs": [],
   "source": [
    "training = training.drop(columns='animal_name')"
   ]
  },
  {
   "cell_type": "code",
   "execution_count": 35,
   "metadata": {},
   "outputs": [],
   "source": [
    "training = training.values.tolist()"
   ]
  },
  {
   "cell_type": "code",
   "execution_count": 36,
   "metadata": {},
   "outputs": [],
   "source": [
    "train_sample_num = len(training)\n",
    "attr_num = len(training[0])-1"
   ]
  },
  {
   "cell_type": "code",
   "execution_count": 68,
   "metadata": {},
   "outputs": [],
   "source": [
    "test = pd.read_csv('test.data')"
   ]
  },
  {
   "cell_type": "code",
   "execution_count": 69,
   "metadata": {},
   "outputs": [],
   "source": [
    "test = test.drop(columns=['animal_name', 'classtype'])"
   ]
  },
  {
   "cell_type": "code",
   "execution_count": 77,
   "metadata": {},
   "outputs": [],
   "source": [
    "test = test.values.tolist()"
   ]
  },
  {
   "cell_type": "code",
   "execution_count": 78,
   "metadata": {},
   "outputs": [
    {
     "data": {
      "text/plain": [
       "[[0, 0, 1, 0, 0, 1, 1, 1, 1, 0, 0, 1, 0, 1, 0, 0]]"
      ]
     },
     "execution_count": 78,
     "metadata": {},
     "output_type": "execute_result"
    }
   ],
   "source": [
    "test"
   ]
  },
  {
   "cell_type": "code",
   "execution_count": 42,
   "metadata": {},
   "outputs": [],
   "source": [
    "def separate_by_class(dataset):\n",
    "    separated = dict()\n",
    "    for i in range(len(dataset)):\n",
    "        vector = dataset[i]\n",
    "        class_value = vector[-1]\n",
    "        if (class_value not in separated):\n",
    "            separated[class_value] = list()\n",
    "        separated[class_value].append(vector)\n",
    "    return separated"
   ]
  },
  {
   "cell_type": "code",
   "execution_count": 43,
   "metadata": {},
   "outputs": [],
   "source": [
    "separated = separate_by_class(training)"
   ]
  },
  {
   "cell_type": "code",
   "execution_count": 44,
   "metadata": {},
   "outputs": [],
   "source": [
    "def calculate_class_py(label):\n",
    "    count = len(label)\n",
    "    py = count/train_sample_num\n",
    "    return py"
   ]
  },
  {
   "cell_type": "code",
   "execution_count": 46,
   "metadata": {},
   "outputs": [],
   "source": [
    "def calculate_pxy(label):\n",
    "    pxy = []\n",
    "    for i in range(attr_num):\n",
    "        \n",
    "        if i != 12:\n",
    "            count0 = 0\n",
    "            count1 = 0\n",
    "            for row in label:\n",
    "                if row[i] == '0':\n",
    "                    count0 += 1\n",
    "                else:\n",
    "                    count1 += 1\n",
    "            cal = ((count0 + 0.1)/(len(label) + 0.2), (count1 + 0.1)/(len(label) + 0.2))\n",
    "            pxy.append(cal)\n",
    "        else:\n",
    "            count0 = 0\n",
    "            count1 = 0\n",
    "            count2 = 0\n",
    "            count3 = 0\n",
    "            count4 = 0\n",
    "            count5 = 0\n",
    "            for row in label:\n",
    "                if row[i] == '0':\n",
    "                    count0 += 1\n",
    "                elif row[i] == '1':\n",
    "                    count1 += 1\n",
    "                elif row[i] == '2':\n",
    "                    count2 += 1\n",
    "                elif row[i] == '3':\n",
    "                    count3 += 1\n",
    "                elif row[i] == '4':\n",
    "                    count4 += 1\n",
    "                else:\n",
    "                    count5 += 1\n",
    "            cal = ((count0 + 0.1)/(len(label) + 0.6), (count1 + 0.1)/(len(label) + 0.6), (count2 + 0.1)/(len(label) + 0.6),\n",
    "                   (count3 + 0.1)/(len(label) + 0.6), (count4 + 0.1)/(len(label) + 0.6), (count5 + 0.1)/(len(label) + 0.6))\n",
    "            pxy.append(cal)\n",
    "            \n",
    "    return pxy"
   ]
  },
  {
   "cell_type": "code",
   "execution_count": 47,
   "metadata": {},
   "outputs": [],
   "source": [
    "def summarize_by_class(separated):\n",
    "    model = dict()\n",
    "    for class_value, rows in separated.items():\n",
    "        pxy = calculate_pxy(rows)\n",
    "        py = calculate_class_py(rows)\n",
    "        model[class_value] = [pxy, py]\n",
    "    return model"
   ]
  },
  {
   "cell_type": "code",
   "execution_count": 48,
   "metadata": {},
   "outputs": [],
   "source": [
    "model = summarize_by_class(separated)"
   ]
  },
  {
   "cell_type": "code",
   "execution_count": 51,
   "metadata": {},
   "outputs": [],
   "source": [
    "def calculate_class_probabilities(model, sample):\n",
    "    probabilities = dict()\n",
    "    for class_value, class_summaries in model.items():\n",
    "        probabilities[class_value] = class_summaries[1]\n",
    "        for i in range(attr_num):\n",
    "            probabilities[class_value] *= class_summaries[0][i][int(sample[i])]\n",
    "    return probabilities"
   ]
  },
  {
   "cell_type": "code",
   "execution_count": 79,
   "metadata": {},
   "outputs": [
    {
     "data": {
      "text/plain": [
       "{1: 6.0687735982058806e-15,\n",
       " 7: 1.012165426225649e-13,\n",
       " 4: 7.905150139524617e-12,\n",
       " 6: 1.012165426225649e-13,\n",
       " 2: 7.905150139524617e-12,\n",
       " 3: 7.905150139524617e-12}"
      ]
     },
     "execution_count": 79,
     "metadata": {},
     "output_type": "execute_result"
    }
   ],
   "source": [
    "calculate_class_probabilities(model, test[0])"
   ]
  },
  {
   "cell_type": "code",
   "execution_count": null,
   "metadata": {},
   "outputs": [],
   "source": []
  },
  {
   "cell_type": "code",
   "execution_count": null,
   "metadata": {},
   "outputs": [],
   "source": []
  }
 ],
 "metadata": {
  "kernelspec": {
   "display_name": "Python 3",
   "language": "python",
   "name": "python3"
  },
  "language_info": {
   "codemirror_mode": {
    "name": "ipython",
    "version": 3
   },
   "file_extension": ".py",
   "mimetype": "text/x-python",
   "name": "python",
   "nbconvert_exporter": "python",
   "pygments_lexer": "ipython3",
   "version": "3.7.5"
  }
 },
 "nbformat": 4,
 "nbformat_minor": 4
}
