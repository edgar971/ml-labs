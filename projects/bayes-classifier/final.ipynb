{
 "cells": [
  {
   "cell_type": "code",
   "execution_count": 55,
   "metadata": {},
   "outputs": [],
   "source": [
    "import pandas as pd\n",
    "import numpy as np\n",
    "import operator"
   ]
  },
  {
   "cell_type": "code",
   "execution_count": 17,
   "metadata": {},
   "outputs": [],
   "source": [
    "training = pd.read_csv('train.data')\n",
    "training = training.drop(columns='animal_name')"
   ]
  },
  {
   "cell_type": "code",
   "execution_count": 18,
   "metadata": {},
   "outputs": [],
   "source": [
    "test = pd.read_csv('test.data')\n",
    "test = test.drop(columns=['animal_name', 'classtype'])\n",
    "test = test.values.tolist()"
   ]
  },
  {
   "cell_type": "code",
   "execution_count": 110,
   "metadata": {},
   "outputs": [
    {
     "data": {
      "text/plain": [
       "array([[1, 0, 0, 1, 0, 0, 1, 1, 1, 1, 0, 0, 4, 0, 0, 1, 1],\n",
       "       [0, 0, 1, 0, 0, 0, 0, 0, 0, 1, 0, 0, 0, 0, 0, 0, 7],\n",
       "       [0, 0, 1, 0, 0, 1, 1, 1, 1, 0, 0, 1, 0, 1, 0, 0, 4],\n",
       "       [0, 0, 1, 0, 1, 0, 0, 0, 0, 1, 0, 0, 6, 0, 0, 0, 6],\n",
       "       [1, 0, 0, 1, 0, 0, 0, 1, 1, 1, 0, 0, 4, 1, 0, 1, 1],\n",
       "       [1, 0, 1, 0, 1, 0, 0, 0, 0, 1, 0, 0, 6, 0, 0, 0, 6],\n",
       "       [0, 1, 1, 0, 1, 1, 1, 0, 1, 1, 0, 0, 2, 1, 0, 0, 2],\n",
       "       [0, 0, 1, 0, 0, 1, 1, 0, 0, 0, 0, 0, 4, 0, 0, 0, 7],\n",
       "       [1, 0, 0, 1, 1, 0, 0, 1, 1, 1, 0, 0, 2, 1, 0, 0, 1],\n",
       "       [0, 0, 1, 0, 0, 0, 1, 1, 1, 1, 0, 0, 0, 1, 0, 0, 3]])"
      ]
     },
     "execution_count": 110,
     "metadata": {},
     "output_type": "execute_result"
    }
   ],
   "source": [
    "training.values"
   ]
  },
  {
   "cell_type": "code",
   "execution_count": 136,
   "metadata": {},
   "outputs": [],
   "source": [
    "def prior_proba(column_values):\n",
    "    prior_dict = {}\n",
    "    length = len(column_values)\n",
    "    for val in column_values:\n",
    "        if val not in prior_dict.keys():\n",
    "            prior_dict[val] = 1\n",
    "        else:\n",
    "            prior_dict[val] += 1\n",
    "    \n",
    "    for key, val in prior_dict.items():\n",
    "        prior_dict[key] = val / length;\n",
    "    return prior_dict"
   ]
  },
  {
   "cell_type": "code",
   "execution_count": 146,
   "metadata": {},
   "outputs": [],
   "source": [
    "def get_column_values(matrix, i):\n",
    "    return [row[i] for row in matrix]"
   ]
  },
  {
   "cell_type": "code",
   "execution_count": 157,
   "metadata": {},
   "outputs": [
    {
     "data": {
      "text/plain": [
       "[1, 2, 3, 4, 6, 7]"
      ]
     },
     "execution_count": 157,
     "metadata": {},
     "output_type": "execute_result"
    }
   ],
   "source": [
    "list(set(get_column_values(training.values, -1)))"
   ]
  },
  {
   "cell_type": "code",
   "execution_count": 160,
   "metadata": {},
   "outputs": [],
   "source": [
    "def likelihood_proba(data, X_list):\n",
    "    labels = get_column_values(data.values, -1)\n",
    "    unique_Labels = list(set(labels))\n",
    "    col_nm = data.columns\n",
    "    \n",
    "    \n",
    "    likelihood_prob = {}\n",
    "    \n",
    "    for i in unique_Labels:\n",
    "        class_list = []\n",
    "        for j in range(0, len(X_list)):\n",
    "            num = len(data.loc[(data[col_nm[j]] == X_list[j]) & (data[col_nm[-1]] == i)]) + 0.1\n",
    "            den = len(data.loc[data[col_nm[-1]] == i]) + 0.1\n",
    "            # Laplace Correction : \n",
    "#             if num == 0.0:\n",
    "#                 num = 0.1\n",
    "#                 den = den + len(np.unique(data[col_nm[j]])) + 0.1\n",
    "            val = num / den\n",
    "            class_list.append(val)\n",
    "        likelihood_prob[i] = class_list\n",
    "    return likelihood_prob"
   ]
  },
  {
   "cell_type": "code",
   "execution_count": 173,
   "metadata": {},
   "outputs": [],
   "source": [
    "def posterior_proba(data, X_list):\n",
    "    prior_prob = {}\n",
    "    likelihood_prob = {}\n",
    "    \n",
    "    prior_prob = prior_proba(data.iloc[:, -1].values)\n",
    "    \n",
    "    likelihood_prob = likelihood_proba(data, X_list)\n",
    "    \n",
    "    posterior_prob = {}\n",
    "    for i in prior_prob:\n",
    "        n1 = prior_prob[i]\n",
    "        n2 = likelihood_prob[i]\n",
    "        for j in range(0, len(n2)):\n",
    "            n1 = n1 * n2[j]\n",
    "        posterior_prob[i] = n1\n",
    "    return posterior_prob"
   ]
  },
  {
   "cell_type": "code",
   "execution_count": 174,
   "metadata": {},
   "outputs": [],
   "source": [
    "def get_label(posterior_prob):\n",
    "    return max(posterior_prob.items(), key=operator.itemgetter(1))"
   ]
  },
  {
   "cell_type": "code",
   "execution_count": 183,
   "metadata": {},
   "outputs": [
    {
     "name": "stdout",
     "output_type": "stream",
     "text": [
      "{1: 0.3, 7: 0.2, 4: 0.1, 6: 0.2, 2: 0.1, 3: 0.1}\n"
     ]
    }
   ],
   "source": [
    "posterior_prob = posterior_proba(training, test[0])"
   ]
  },
  {
   "cell_type": "code",
   "execution_count": 184,
   "metadata": {},
   "outputs": [],
   "source": [
    "assert get_label(posterior_prob) == (4, 0.1)"
   ]
  },
  {
   "cell_type": "code",
   "execution_count": 185,
   "metadata": {},
   "outputs": [],
   "source": [
    "expected = {1: 6.300377651627395e-13,\n",
    " 7: 7.741878983954696e-08,\n",
    " 4: 0.1,\n",
    " 6: 1.3189542556539747e-13,\n",
    " 2: 5.644739300537776e-08,\n",
    " 3: 7.513148009015778e-05}"
   ]
  },
  {
   "cell_type": "code",
   "execution_count": 186,
   "metadata": {},
   "outputs": [],
   "source": [
    "assert posterior_prob == expected"
   ]
  },
  {
   "cell_type": "code",
   "execution_count": null,
   "metadata": {},
   "outputs": [],
   "source": []
  }
 ],
 "metadata": {
  "kernelspec": {
   "display_name": "Python 3",
   "language": "python",
   "name": "python3"
  },
  "language_info": {
   "codemirror_mode": {
    "name": "ipython",
    "version": 3
   },
   "file_extension": ".py",
   "mimetype": "text/x-python",
   "name": "python",
   "nbconvert_exporter": "python",
   "pygments_lexer": "ipython3",
   "version": "3.7.5"
  }
 },
 "nbformat": 4,
 "nbformat_minor": 4
}
