{
 "cells": [
  {
   "cell_type": "code",
   "execution_count": 1,
   "id": "ce45df4a-6f05-4a42-aad9-b086e79a04d0",
   "metadata": {
    "tags": []
   },
   "outputs": [
    {
     "name": "stderr",
     "output_type": "stream",
     "text": [
      "2023-03-11 02:32:57.410197: I tensorflow/core/platform/cpu_feature_guard.cc:193] This TensorFlow binary is optimized with oneAPI Deep Neural Network Library (oneDNN) to use the following CPU instructions in performance-critical operations:  AVX2 AVX512F FMA\n",
      "To enable them in other operations, rebuild TensorFlow with the appropriate compiler flags.\n",
      "2023-03-11 02:33:00.894709: W tensorflow/compiler/xla/stream_executor/platform/default/dso_loader.cc:64] Could not load dynamic library 'libcudart.so.11.0'; dlerror: libcudart.so.11.0: cannot open shared object file: No such file or directory\n",
      "2023-03-11 02:33:00.894746: I tensorflow/compiler/xla/stream_executor/cuda/cudart_stub.cc:29] Ignore above cudart dlerror if you do not have a GPU set up on your machine.\n",
      "2023-03-11 02:33:03.877006: W tensorflow/compiler/xla/stream_executor/platform/default/dso_loader.cc:64] Could not load dynamic library 'libnvinfer.so.7'; dlerror: libnvinfer.so.7: cannot open shared object file: No such file or directory\n",
      "2023-03-11 02:33:03.877150: W tensorflow/compiler/xla/stream_executor/platform/default/dso_loader.cc:64] Could not load dynamic library 'libnvinfer_plugin.so.7'; dlerror: libnvinfer_plugin.so.7: cannot open shared object file: No such file or directory\n",
      "2023-03-11 02:33:03.877163: W tensorflow/compiler/tf2tensorrt/utils/py_utils.cc:38] TF-TRT Warning: Cannot dlopen some TensorRT libraries. If you would like to use Nvidia GPU with TensorRT, please make sure the missing libraries mentioned above are installed properly.\n"
     ]
    }
   ],
   "source": [
    "from transformers import pipeline\n",
    "from transformers import AutoTokenizer, TFAutoModelForSequenceClassification, AutoModelForSequenceClassification"
   ]
  },
  {
   "cell_type": "markdown",
   "id": "53fc2e20-72c8-4bac-9045-6a4609f8a0f3",
   "metadata": {},
   "source": [
    "## Using a pre-trained models and pipelines"
   ]
  },
  {
   "cell_type": "code",
   "execution_count": 5,
   "id": "2a057363-6f8f-4ccb-8d6d-7aa3964b4cd0",
   "metadata": {
    "tags": []
   },
   "outputs": [],
   "source": [
    "# https://huggingface.co/docs/transformers/quicktour"
   ]
  },
  {
   "cell_type": "code",
   "execution_count": null,
   "id": "bc90071d-52f9-472a-b948-e873524e1d9b",
   "metadata": {
    "tags": []
   },
   "outputs": [
    {
     "name": "stderr",
     "output_type": "stream",
     "text": [
      "No model was supplied, defaulted to distilbert-base-uncased-finetuned-sst-2-english and revision af0f99b (https://huggingface.co/distilbert-base-uncased-finetuned-sst-2-english).\n",
      "Using a pipeline without specifying a model name and revision in production is not recommended.\n"
     ]
    }
   ],
   "source": [
    "sentiment_classifier = pipeline(\"sentiment-analysis\")"
   ]
  },
  {
   "cell_type": "code",
   "execution_count": 4,
   "id": "2bf66e74-a56f-455e-a5c9-025f7c7e32bc",
   "metadata": {
    "tags": []
   },
   "outputs": [
    {
     "data": {
      "text/plain": [
       "[{'label': 'POSITIVE', 'score': 0.9997779726982117}]"
      ]
     },
     "execution_count": 4,
     "metadata": {},
     "output_type": "execute_result"
    }
   ],
   "source": [
    "sentiment_classifier(\"Happy happy sad sad\")"
   ]
  },
  {
   "cell_type": "code",
   "execution_count": 17,
   "id": "64d836f9-5330-4ba3-a6eb-49df98c8d309",
   "metadata": {
    "tags": []
   },
   "outputs": [
    {
     "data": {
      "text/plain": [
       "[{'label': 'POSITIVE', 'score': 0.9978420734405518}]"
      ]
     },
     "execution_count": 17,
     "metadata": {},
     "output_type": "execute_result"
    }
   ],
   "source": [
    "sentiment_classifier(\"This is very easy.\")"
   ]
  },
  {
   "cell_type": "code",
   "execution_count": 19,
   "id": "7e43a3a8-dfc6-4b8f-9c6e-e4dcf42fa51e",
   "metadata": {
    "tags": []
   },
   "outputs": [
    {
     "name": "stderr",
     "output_type": "stream",
     "text": [
      "No model was supplied, defaulted to gpt2 and revision 6c0e608 (https://huggingface.co/gpt2).\n",
      "Using a pipeline without specifying a model name and revision in production is not recommended.\n"
     ]
    },
    {
     "data": {
      "application/vnd.jupyter.widget-view+json": {
       "model_id": "fa47814df93946beb4e91f5d7c267b02",
       "version_major": 2,
       "version_minor": 0
      },
      "text/plain": [
       "Downloading (…)lve/main/config.json:   0%|          | 0.00/665 [00:00<?, ?B/s]"
      ]
     },
     "metadata": {},
     "output_type": "display_data"
    },
    {
     "data": {
      "application/vnd.jupyter.widget-view+json": {
       "model_id": "1ab85f7ff4694212b1c720ee2216f595",
       "version_major": 2,
       "version_minor": 0
      },
      "text/plain": [
       "Downloading tf_model.h5:   0%|          | 0.00/498M [00:00<?, ?B/s]"
      ]
     },
     "metadata": {},
     "output_type": "display_data"
    },
    {
     "name": "stderr",
     "output_type": "stream",
     "text": [
      "All model checkpoint layers were used when initializing TFGPT2LMHeadModel.\n",
      "\n",
      "All the layers of TFGPT2LMHeadModel were initialized from the model checkpoint at gpt2.\n",
      "If your task is similar to the task the model of the checkpoint was trained on, you can already use TFGPT2LMHeadModel for predictions without further training.\n"
     ]
    },
    {
     "data": {
      "application/vnd.jupyter.widget-view+json": {
       "model_id": "9caf1bcee166421689ddab4854e6bcf1",
       "version_major": 2,
       "version_minor": 0
      },
      "text/plain": [
       "Downloading (…)neration_config.json:   0%|          | 0.00/124 [00:00<?, ?B/s]"
      ]
     },
     "metadata": {},
     "output_type": "display_data"
    },
    {
     "data": {
      "application/vnd.jupyter.widget-view+json": {
       "model_id": "2145070a461f4509ab2ebc6827e85e67",
       "version_major": 2,
       "version_minor": 0
      },
      "text/plain": [
       "Downloading (…)olve/main/vocab.json:   0%|          | 0.00/1.04M [00:00<?, ?B/s]"
      ]
     },
     "metadata": {},
     "output_type": "display_data"
    },
    {
     "data": {
      "application/vnd.jupyter.widget-view+json": {
       "model_id": "5ec4f910d4da48a59fe15377691c2510",
       "version_major": 2,
       "version_minor": 0
      },
      "text/plain": [
       "Downloading (…)olve/main/merges.txt:   0%|          | 0.00/456k [00:00<?, ?B/s]"
      ]
     },
     "metadata": {},
     "output_type": "display_data"
    },
    {
     "data": {
      "application/vnd.jupyter.widget-view+json": {
       "model_id": "a38131b6cd1543ecb34733a3e2d370d6",
       "version_major": 2,
       "version_minor": 0
      },
      "text/plain": [
       "Downloading (…)/main/tokenizer.json:   0%|          | 0.00/1.36M [00:00<?, ?B/s]"
      ]
     },
     "metadata": {},
     "output_type": "display_data"
    }
   ],
   "source": [
    "generator = pipeline(task=\"text-generation\")"
   ]
  },
  {
   "cell_type": "code",
   "execution_count": 21,
   "id": "806991d8-64ee-4634-831d-2d03b25a90bf",
   "metadata": {
    "tags": []
   },
   "outputs": [
    {
     "name": "stderr",
     "output_type": "stream",
     "text": [
      "Setting `pad_token_id` to `eos_token_id`:50256 for open-end generation.\n"
     ]
    },
    {
     "data": {
      "text/plain": [
       "[{'generated_text': 'Pluralsight, who will work with the City of Calgary to promote a \"cultural tourism\" model where local businesses will provide transportation, accommodation and entertainment to the community.\\n\\nThe Calgary Police Service has partnered with the local businesses in St.'}]"
      ]
     },
     "execution_count": 21,
     "metadata": {},
     "output_type": "execute_result"
    }
   ],
   "source": [
    "generator('Pluralsight')"
   ]
  },
  {
   "cell_type": "code",
   "execution_count": 22,
   "id": "ef3ebb2a-54d0-4144-9e1e-6fa68c631262",
   "metadata": {
    "tags": []
   },
   "outputs": [
    {
     "name": "stderr",
     "output_type": "stream",
     "text": [
      "Setting `pad_token_id` to `eos_token_id`:50256 for open-end generation.\n"
     ]
    },
    {
     "data": {
      "text/plain": [
       "[{'generated_text': \"Machine Learning will provide you real-time, low-cost, and non-monotonic data for your Google Apps. We'll be using the same deep learning model as Google App Dev which we already have in the App Dev repository and will use\"}]"
      ]
     },
     "execution_count": 22,
     "metadata": {},
     "output_type": "execute_result"
    }
   ],
   "source": [
    "generator('Machine Learning will')"
   ]
  },
  {
   "cell_type": "code",
   "execution_count": 24,
   "id": "08c5ff2b-060c-48e7-ac7f-ecf7ffa3a840",
   "metadata": {
    "tags": []
   },
   "outputs": [
    {
     "name": "stderr",
     "output_type": "stream",
     "text": [
      "Setting `pad_token_id` to `eos_token_id`:50256 for open-end generation.\n"
     ]
    },
    {
     "data": {
      "text/plain": [
       "[{'generated_text': \"Hablas otro idioma?\\n\\nAh! (cough, oatmeal) What's my name?\\n\\nHablas otro, otro? (Coughing) Oh, my! I wonder who he is...\"}]"
      ]
     },
     "execution_count": 24,
     "metadata": {},
     "output_type": "execute_result"
    }
   ],
   "source": [
    "generator('Hablas otro idioma?')"
   ]
  },
  {
   "cell_type": "markdown",
   "id": "bb08dbcf-a5e1-440c-9d41-8ab7c6b8af1f",
   "metadata": {},
   "source": [
    "## Custom model and tokenizer Hub"
   ]
  },
  {
   "cell_type": "code",
   "execution_count": 71,
   "id": "cc3708e8-7a55-4f2e-b4fd-2801d238503b",
   "metadata": {
    "tags": []
   },
   "outputs": [],
   "source": [
    "model_path = \"nlptown/bert-base-multilingual-uncased-sentiment\""
   ]
  },
  {
   "cell_type": "code",
   "execution_count": 72,
   "id": "65bb8449-f462-429b-9c3e-4fef26c3bd69",
   "metadata": {
    "tags": []
   },
   "outputs": [
    {
     "name": "stderr",
     "output_type": "stream",
     "text": [
      "Some layers from the model checkpoint at nlptown/bert-base-multilingual-uncased-sentiment were not used when initializing TFBertForSequenceClassification: ['dropout_37']\n",
      "- This IS expected if you are initializing TFBertForSequenceClassification from the checkpoint of a model trained on another task or with another architecture (e.g. initializing a BertForSequenceClassification model from a BertForPreTraining model).\n",
      "- This IS NOT expected if you are initializing TFBertForSequenceClassification from the checkpoint of a model that you expect to be exactly identical (initializing a BertForSequenceClassification model from a BertForSequenceClassification model).\n",
      "All the layers of TFBertForSequenceClassification were initialized from the model checkpoint at nlptown/bert-base-multilingual-uncased-sentiment.\n",
      "If your task is similar to the task the model of the checkpoint was trained on, you can already use TFBertForSequenceClassification for predictions without further training.\n"
     ]
    }
   ],
   "source": [
    "model = TFAutoModelForSequenceClassification.from_pretrained(model_path)"
   ]
  },
  {
   "cell_type": "code",
   "execution_count": 73,
   "id": "4536cf08-396d-4ca6-a1b7-78afa0077ebf",
   "metadata": {
    "tags": []
   },
   "outputs": [],
   "source": [
    "tokenizer = AutoTokenizer.from_pretrained(model_path)"
   ]
  },
  {
   "cell_type": "code",
   "execution_count": 74,
   "id": "807dafb9-1a51-4d8c-abad-186cb81f5e44",
   "metadata": {
    "tags": []
   },
   "outputs": [
    {
     "data": {
      "text/plain": [
       "['sometimes',\n",
       " 'you',\n",
       " '[UNK]',\n",
       " 've',\n",
       " 'gotta',\n",
       " 'run',\n",
       " 'before',\n",
       " 'you',\n",
       " 'can',\n",
       " 'walk',\n",
       " '.']"
      ]
     },
     "execution_count": 74,
     "metadata": {},
     "output_type": "execute_result"
    }
   ],
   "source": [
    "tokenizer.tokenize('SOMETIMES YOU’VE GOTTA RUN BEFORE YOU CAN WALK.')"
   ]
  },
  {
   "cell_type": "code",
   "execution_count": 75,
   "id": "8505e088-7f6e-4707-8882-dec97608d31a",
   "metadata": {
    "tags": []
   },
   "outputs": [],
   "source": [
    "classifier = pipeline(\"sentiment-analysis\", model=model, tokenizer=tokenizer)"
   ]
  },
  {
   "cell_type": "code",
   "execution_count": 76,
   "id": "f5ff46f0-0d0b-497a-b931-ea6a47f42f0c",
   "metadata": {
    "tags": []
   },
   "outputs": [
    {
     "data": {
      "text/plain": [
       "[{'label': '3 stars', 'score': 0.3487014174461365}]"
      ]
     },
     "execution_count": 76,
     "metadata": {},
     "output_type": "execute_result"
    }
   ],
   "source": [
    "classifier(\"SOMETIMES YOU’VE GOTTA RUN BEFORE YOU CAN WALK.\")"
   ]
  },
  {
   "cell_type": "markdown",
   "id": "29deb7c8-0fd7-431b-8496-36bc01d43c87",
   "metadata": {},
   "source": [
    "## Zero Shot Classification"
   ]
  },
  {
   "cell_type": "code",
   "execution_count": 2,
   "id": "9833a4ae-6b60-4b7e-876d-76afd3ac0af9",
   "metadata": {
    "tags": []
   },
   "outputs": [],
   "source": [
    "zero_shot_model_path = 'facebook/bart-large-mnli'"
   ]
  },
  {
   "cell_type": "code",
   "execution_count": 3,
   "id": "5341a4b1-5605-4230-a1de-3a1b138046de",
   "metadata": {
    "tags": []
   },
   "outputs": [
    {
     "data": {
      "application/vnd.jupyter.widget-view+json": {
       "model_id": "c30a95391ee742649bd759498e3d8879",
       "version_major": 2,
       "version_minor": 0
      },
      "text/plain": [
       "Downloading pytorch_model.bin:   0%|          | 0.00/1.63G [00:00<?, ?B/s]"
      ]
     },
     "metadata": {},
     "output_type": "display_data"
    }
   ],
   "source": [
    "zero_shot_model = AutoModelForSequenceClassification.from_pretrained(zero_shot_model_path)"
   ]
  },
  {
   "cell_type": "code",
   "execution_count": 6,
   "id": "21a59900-0ffd-4d6f-9ebc-4a2d8c233bf6",
   "metadata": {
    "tags": []
   },
   "outputs": [
    {
     "data": {
      "application/vnd.jupyter.widget-view+json": {
       "model_id": "a391b8421bfe45f2b54920c673dea608",
       "version_major": 2,
       "version_minor": 0
      },
      "text/plain": [
       "Downloading (…)okenizer_config.json:   0%|          | 0.00/26.0 [00:00<?, ?B/s]"
      ]
     },
     "metadata": {},
     "output_type": "display_data"
    },
    {
     "data": {
      "application/vnd.jupyter.widget-view+json": {
       "model_id": "0694604d24714a81825c7f75abc78c90",
       "version_major": 2,
       "version_minor": 0
      },
      "text/plain": [
       "Downloading (…)olve/main/vocab.json:   0%|          | 0.00/899k [00:00<?, ?B/s]"
      ]
     },
     "metadata": {},
     "output_type": "display_data"
    },
    {
     "data": {
      "application/vnd.jupyter.widget-view+json": {
       "model_id": "1aa26b61c11f46dd82405af50c3a191f",
       "version_major": 2,
       "version_minor": 0
      },
      "text/plain": [
       "Downloading (…)olve/main/merges.txt:   0%|          | 0.00/456k [00:00<?, ?B/s]"
      ]
     },
     "metadata": {},
     "output_type": "display_data"
    },
    {
     "data": {
      "application/vnd.jupyter.widget-view+json": {
       "model_id": "90fd1df3a2b64665b456c1d30df9fa80",
       "version_major": 2,
       "version_minor": 0
      },
      "text/plain": [
       "Downloading (…)/main/tokenizer.json:   0%|          | 0.00/1.36M [00:00<?, ?B/s]"
      ]
     },
     "metadata": {},
     "output_type": "display_data"
    }
   ],
   "source": [
    "tokenizer_zero = AutoTokenizer.from_pretrained(zero_shot_model_path)"
   ]
  },
  {
   "cell_type": "code",
   "execution_count": 20,
   "id": "d768a65c-f024-46b1-91dd-3ac4d9fc2d4c",
   "metadata": {
    "tags": []
   },
   "outputs": [
    {
     "data": {
      "text/plain": [
       "{'sequence': 'Very helpful guides and videos, easy to follow and very thorough! Keep it up!',\n",
       " 'labels': ['positive', 'negative'],\n",
       " 'scores': [0.9897369742393494, 0.010262986645102501]}"
      ]
     },
     "execution_count": 20,
     "metadata": {},
     "output_type": "execute_result"
    }
   ],
   "source": [
    "classifier_zero_shot(\"Very helpful guides and videos, easy to follow and very thorough! Keep it up!\", [\"positive\", \"negative\"])"
   ]
  },
  {
   "cell_type": "code",
   "execution_count": 21,
   "id": "7a4ab6ed-0427-4770-bc62-d79c071ca4bd",
   "metadata": {
    "tags": []
   },
   "outputs": [
    {
     "data": {
      "text/plain": [
       "{'sequence': \"\\ni would recommand using other learning methods not just videos because when i tried to \\nimplement it in real world scenarios it wasn't really helpful\\n\",\n",
       " 'labels': ['negative', 'positive'],\n",
       " 'scores': [0.8713861107826233, 0.1286139041185379]}"
      ]
     },
     "execution_count": 21,
     "metadata": {},
     "output_type": "execute_result"
    }
   ],
   "source": [
    "classifier_zero_shot(\"\"\"\n",
    "i would recommand using other learning methods not just videos because when i tried to \n",
    "implement it in real world scenarios it wasn't really helpful\n",
    "\"\"\", [\"positive\", \"negative\"])"
   ]
  },
  {
   "cell_type": "code",
   "execution_count": 8,
   "id": "6603c9b3-3d9c-4a63-be95-6715c0e65922",
   "metadata": {
    "tags": []
   },
   "outputs": [],
   "source": [
    "classifier_zero_shot = pipeline(\"zero-shot-classification\", model=zero_shot_model, tokenizer=tokenizer_zero)"
   ]
  },
  {
   "cell_type": "code",
   "execution_count": 14,
   "id": "299f9c43-5632-4696-bcd0-a983a40083f3",
   "metadata": {
    "tags": []
   },
   "outputs": [],
   "source": [
    "sequence_to_classify_1 = \"Always code as if the guy who ends up maintaining your code will be a violent psychopath who knows where you live\"\n",
    "candidate_labels_1 = ['programming', 'cooking', 'dancing']"
   ]
  },
  {
   "cell_type": "code",
   "execution_count": 15,
   "id": "604c3814-49ae-454a-9518-046fa3ca0ffa",
   "metadata": {
    "tags": []
   },
   "outputs": [
    {
     "data": {
      "text/plain": [
       "{'sequence': 'Always code as if the guy who ends up maintaining your code will be a violent psychopath who knows where you live',\n",
       " 'labels': ['programming', 'dancing', 'cooking'],\n",
       " 'scores': [0.9860000014305115, 0.007130641955882311, 0.006869337987154722]}"
      ]
     },
     "execution_count": 15,
     "metadata": {},
     "output_type": "execute_result"
    }
   ],
   "source": [
    "classifier_zero_shot(sequence_to_classify_1, candidate_labels_1)"
   ]
  },
  {
   "cell_type": "code",
   "execution_count": 16,
   "id": "9f2f9061-9072-4426-b6c8-761e070308e7",
   "metadata": {
    "tags": []
   },
   "outputs": [],
   "source": [
    "sequence_to_classify_2 = \"\"\"\n",
    "from transformers import pipeline\n",
    "classifier = pipeline(\"zero-shot-classification\",\n",
    "                      model=\"facebook/bart-large-mnli\")\n",
    "\"\"\"\n",
    "candidate_labels_2 = ['python', 'javascript', 'machine-learning', 'dancing', 'running', 'programming']"
   ]
  },
  {
   "cell_type": "code",
   "execution_count": 17,
   "id": "1e9756f7-b938-4b38-b6ed-7edb72c8fffa",
   "metadata": {
    "tags": []
   },
   "outputs": [
    {
     "data": {
      "text/plain": [
       "{'sequence': '\\nfrom transformers import pipeline\\nclassifier = pipeline(\"zero-shot-classification\",\\n                      model=\"facebook/bart-large-mnli\")\\n',\n",
       " 'labels': ['machine-learning',\n",
       "  'programming',\n",
       "  'running',\n",
       "  'javascript',\n",
       "  'python',\n",
       "  'dancing'],\n",
       " 'scores': [0.39287713170051575,\n",
       "  0.33438244462013245,\n",
       "  0.18231745064258575,\n",
       "  0.034957822412252426,\n",
       "  0.028216687962412834,\n",
       "  0.02724849246442318]}"
      ]
     },
     "execution_count": 17,
     "metadata": {},
     "output_type": "execute_result"
    }
   ],
   "source": [
    "classifier_zero_shot(sequence_to_classify_2, candidate_labels_2)"
   ]
  },
  {
   "cell_type": "code",
   "execution_count": null,
   "id": "6343142d-9f0c-4cb5-aae9-29eb76716528",
   "metadata": {},
   "outputs": [],
   "source": []
  }
 ],
 "metadata": {
  "kernelspec": {
   "display_name": "Python 3 (ipykernel)",
   "language": "python",
   "name": "python3"
  },
  "language_info": {
   "codemirror_mode": {
    "name": "ipython",
    "version": 3
   },
   "file_extension": ".py",
   "mimetype": "text/x-python",
   "name": "python",
   "nbconvert_exporter": "python",
   "pygments_lexer": "ipython3",
   "version": "3.10.9"
  }
 },
 "nbformat": 4,
 "nbformat_minor": 5
}
