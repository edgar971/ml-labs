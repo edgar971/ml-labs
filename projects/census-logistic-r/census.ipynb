{
 "cells": [
  {
   "cell_type": "code",
   "execution_count": 31,
   "metadata": {},
   "outputs": [],
   "source": [
    "import pandas as pd\n",
    "import tensorflow as tf\n",
    "from six.moves import urllib\n",
    "import shutil"
   ]
  },
  {
   "cell_type": "markdown",
   "metadata": {},
   "source": [
    "## Load data"
   ]
  },
  {
   "cell_type": "code",
   "execution_count": 32,
   "metadata": {},
   "outputs": [],
   "source": [
    "TRAIN_FILE_NAME = \"census/adult.data\"\n",
    "TEST_FILE_NAME = \"census/adult.test\""
   ]
  },
  {
   "cell_type": "code",
   "execution_count": 33,
   "metadata": {},
   "outputs": [],
   "source": [
    "data_colums = [\n",
    "    \"age\", \"workclass\", \"fnlwgt\", \"education\", \"education_num\", \n",
    "    \"marital_status\", \"occupation\", \"relationship\", \"race\", \"gender\", \n",
    "    \"capital_gain\", \"capital_loss\", \"hours_per_week\", \"native_country\", \n",
    "    \"income_bracket\"\n",
    "]"
   ]
  },
  {
   "cell_type": "code",
   "execution_count": 34,
   "metadata": {},
   "outputs": [],
   "source": [
    "test_df = pd.read_csv(TEST_FILE_NAME, names=data_colums, skipinitialspace=True, skiprows=1)"
   ]
  },
  {
   "cell_type": "code",
   "execution_count": 35,
   "metadata": {},
   "outputs": [],
   "source": [
    "test_df = test_df.drop([\"fnlwgt\", \"capital_gain\", \"capital_loss\"],axis=1)"
   ]
  },
  {
   "cell_type": "markdown",
   "metadata": {},
   "source": [
    "## Prepare data"
   ]
  },
  {
   "cell_type": "code",
   "execution_count": 36,
   "metadata": {},
   "outputs": [],
   "source": [
    "# Categorical Variables\n",
    "gender = tf.feature_column.categorical_column_with_vocabulary_list(\"gender\", test_df['gender'].unique())\n",
    "race = tf.feature_column.categorical_column_with_vocabulary_list(\"race\", test_df['race'].unique())\n",
    "education = tf.feature_column.categorical_column_with_vocabulary_list(\"education\", test_df['education'].unique())\n",
    "marital_status = tf.feature_column.categorical_column_with_vocabulary_list(\"marital_status\", test_df['marital_status'].unique())\n",
    "relationship = tf.feature_column.categorical_column_with_vocabulary_list(\"relationship\", test_df['relationship'].unique())"
   ]
  },
  {
   "cell_type": "code",
   "execution_count": 37,
   "metadata": {},
   "outputs": [],
   "source": [
    "# Numeric Variables\n",
    "age = tf.feature_column.numeric_column(\"age\")\n",
    "education_num = tf.feature_column.numeric_column(\"education_num\")\n",
    "hours_per_week = tf.feature_column.numeric_column(\"hours_per_week\")\n",
    "age_buckets = "
   ]
  }
 ],
 "metadata": {
  "kernelspec": {
   "display_name": "Python 3",
   "language": "python",
   "name": "python3"
  },
  "language_info": {
   "codemirror_mode": {
    "name": "ipython",
    "version": 3
   },
   "file_extension": ".py",
   "mimetype": "text/x-python",
   "name": "python",
   "nbconvert_exporter": "python",
   "pygments_lexer": "ipython3",
   "version": "3.6.8"
  }
 },
 "nbformat": 4,
 "nbformat_minor": 2
}
